{
 "cells": [
  {
   "cell_type": "markdown",
   "id": "f3bab44a",
   "metadata": {},
   "source": [
    "# HCL-INTERNSHIP"
   ]
  },
  {
   "cell_type": "markdown",
   "id": "f4805cd4",
   "metadata": {},
   "source": [
    "# NAME:: GAJJELA SAI CHARAN"
   ]
  },
  {
   "cell_type": "markdown",
   "id": "fe733adc",
   "metadata": {},
   "source": [
    "# DEPARTMENT::CSE-AI"
   ]
  },
  {
   "cell_type": "markdown",
   "id": "bd78e5df",
   "metadata": {},
   "source": [
    "# PROJECT TITLE::COLOR RECOGNITION"
   ]
  },
  {
   "cell_type": "markdown",
   "id": "2ba2b2f0",
   "metadata": {},
   "source": [
    "install opencv"
   ]
  },
  {
   "cell_type": "code",
   "execution_count": 4,
   "id": "4b96a147",
   "metadata": {
    "scrolled": true
   },
   "outputs": [
    {
     "name": "stdout",
     "output_type": "stream",
     "text": [
      "Requirement already satisfied: opencv-python in d:\\anaconda\\lib\\site-packages (4.6.0.66)\n",
      "Requirement already satisfied: numpy>=1.17.3 in d:\\anaconda\\lib\\site-packages (from opencv-python) (1.21.5)\n",
      "Note: you may need to restart the kernel to use updated packages.\n"
     ]
    }
   ],
   "source": [
    "pip install opencv-python"
   ]
  },
  {
   "cell_type": "markdown",
   "id": "544ceb65",
   "metadata": {},
   "source": [
    "# Python code for Multiple Color Detection\n",
    "# Importing required libraries"
   ]
  },
  {
   "cell_type": "code",
   "execution_count": 5,
   "id": "5dd050e8",
   "metadata": {},
   "outputs": [],
   "source": [
    "import numpy as np\n",
    "import cv2"
   ]
  },
  {
   "cell_type": "markdown",
   "id": "333e1e68",
   "metadata": {},
   "source": [
    "CONVERTING RGB TO HSV:\n",
    "*Convert the image frame in BGR (BLUE, GREEN, RED) to HSV(hue-saturation-value It stores color information in a \n",
    "cylindrical representation of RGB color points. Hue value varies from 0-179 Saturation value varies from 0-255 \n",
    "and Value value varies from 0-255. It is mostly used for color segmentation purpose.) \n",
    "“hsv=cv2.cvtColor(image, cv2.Color_BGR2HSV)”\n",
    "\n",
    "SETTING RANGES FOR COLORS:\n",
    "*Set the minimum and maximum range of HSV for red green and blue and define the mask for highlight a specific object \n",
    "from the image . \n",
    "”mask=cv2.inRange(hsv, min, max)”.  \n",
    "\n",
    "MORPHOLOGICAL TRANSFORM:\n",
    "*Morphological Transformations are simple operations based on the shape of an image usually performed on a binary image.\n",
    "It takes our input image and a structuring element(kernel) which decides the nature of the operation.\n",
    "\n",
    "DILATION:\n",
    "*We use kernel for blur an image and Dilation for remove noises from the image. For each color.\n",
    "“Cv2.dilate()” \n",
    "\n",
    "BITWISE OPERATOR:\n",
    "*We use bitwise_and operator between the image frame and mask is performed to specifically detect the particular color \n",
    "and leave other color. \n",
    "“Cv2.bitwise_and()”. \n",
    "\n",
    "CREATING CONTOUR FOR EACH COLORS:\n",
    "*Create contour for the individual colors to display the detected colored region distinguish"
   ]
  },
  {
   "cell_type": "code",
   "execution_count": 6,
   "id": "d11b6dc3",
   "metadata": {},
   "outputs": [],
   "source": [
    "# Capturing video through webcam\n",
    "webcam = cv2.VideoCapture(0)\n",
    "  \n",
    "# Start a while loop\n",
    "while(1):\n",
    "      \n",
    "    # Reading the video from the\n",
    "    # webcam in image frames\n",
    "    _, imageFrame = webcam.read()\n",
    "  \n",
    "    # Convert the imageFrame in \n",
    "    # BGR(RGB color space) to \n",
    "    # HSV(hue-saturation-value)\n",
    "    # color space\n",
    "    hsvFrame = cv2.cvtColor(imageFrame, cv2.COLOR_BGR2HSV)\n",
    "  \n",
    "    # Set range for red color and \n",
    "    # define mask\n",
    "    red_lower = np.array([136, 87, 111], np.uint8)\n",
    "    red_upper = np.array([180, 255, 255], np.uint8)\n",
    "    red_mask = cv2.inRange(hsvFrame, red_lower, red_upper)\n",
    "  \n",
    "    # Set range for green color and \n",
    "    # define mask\n",
    "    green_lower = np.array([25, 52, 72], np.uint8)\n",
    "    green_upper = np.array([102, 255, 255], np.uint8)\n",
    "    green_mask = cv2.inRange(hsvFrame, green_lower, green_upper)\n",
    "  \n",
    "    # Set range for blue color and\n",
    "    # define mask\n",
    "    blue_lower = np.array([94, 80, 2], np.uint8)\n",
    "    blue_upper = np.array([120, 255, 255], np.uint8)\n",
    "    blue_mask = cv2.inRange(hsvFrame, blue_lower, blue_upper)\n",
    "      \n",
    "    # Morphological Transform, Dilation\n",
    "    # for each color and bitwise_and operator\n",
    "    # between imageFrame and mask determines\n",
    "    # to detect only that particular color\n",
    "    kernal = np.ones((5, 5), \"uint8\")\n",
    "      \n",
    "    # For red color\n",
    "    red_mask = cv2.dilate(red_mask, kernal)\n",
    "    res_red = cv2.bitwise_and(imageFrame, imageFrame, \n",
    "                              mask = red_mask)\n",
    "      \n",
    "    # For green color\n",
    "    green_mask = cv2.dilate(green_mask, kernal)\n",
    "    res_green = cv2.bitwise_and(imageFrame, imageFrame,\n",
    "                                mask = green_mask)\n",
    "      \n",
    "    # For blue color\n",
    "    blue_mask = cv2.dilate(blue_mask, kernal)\n",
    "    res_blue = cv2.bitwise_and(imageFrame, imageFrame,\n",
    "                               mask = blue_mask)\n",
    "   \n",
    "    # Creating contour to track red color\n",
    "    contours, hierarchy = cv2.findContours(red_mask,\n",
    "                                           cv2.RETR_TREE,\n",
    "                                           cv2.CHAIN_APPROX_SIMPLE)\n",
    "      \n",
    "    for pic, contour in enumerate(contours):\n",
    "        area = cv2.contourArea(contour)\n",
    "        if(area > 300):\n",
    "            x, y, w, h = cv2.boundingRect(contour)\n",
    "            imageFrame = cv2.rectangle(imageFrame, (x, y), \n",
    "                                       (x + w, y + h), \n",
    "                                       (0, 0, 255), 2)\n",
    "              \n",
    "            cv2.putText(imageFrame, \"Red Colour\", (x, y),\n",
    "                        cv2.FONT_HERSHEY_SIMPLEX, 1.0,\n",
    "                        (0, 0, 255))    \n",
    "  \n",
    "    # Creating contour to track green color\n",
    "    contours, hierarchy = cv2.findContours(green_mask,\n",
    "                                           cv2.RETR_TREE,\n",
    "                                           cv2.CHAIN_APPROX_SIMPLE)\n",
    "      \n",
    "    for pic, contour in enumerate(contours):\n",
    "        area = cv2.contourArea(contour)\n",
    "        if(area > 300):\n",
    "            x, y, w, h = cv2.boundingRect(contour)\n",
    "            imageFrame = cv2.rectangle(imageFrame, (x, y), \n",
    "                                       (x + w, y + h),\n",
    "                                       (0, 255, 0), 2)\n",
    "              \n",
    "            cv2.putText(imageFrame, \"Green Colour\", (x, y),\n",
    "                        cv2.FONT_HERSHEY_SIMPLEX, \n",
    "                        1.0, (0, 255, 0))\n",
    "  \n",
    "    # Creating contour to track blue color\n",
    "    contours, hierarchy = cv2.findContours(blue_mask,\n",
    "                                           cv2.RETR_TREE,\n",
    "                                           cv2.CHAIN_APPROX_SIMPLE)\n",
    "    for pic, contour in enumerate(contours):\n",
    "        area = cv2.contourArea(contour)\n",
    "        if(area > 300):\n",
    "            x, y, w, h = cv2.boundingRect(contour)\n",
    "            imageFrame = cv2.rectangle(imageFrame, (x, y),\n",
    "                                       (x + w, y + h),\n",
    "                                       (255, 0, 0), 2)\n",
    "              \n",
    "            cv2.putText(imageFrame, \"Blue Colour\", (x, y),\n",
    "                        cv2.FONT_HERSHEY_SIMPLEX,\n",
    "                        1.0, (255, 0, 0))\n",
    "              \n",
    "    # Program Termination\n",
    "    cv2.imshow(\"Multiple Color Detection in Real-TIme\", imageFrame)\n",
    "    if cv2.waitKey(1) & 0xFF == ord('q'):\n",
    "        break\n",
    "webcam.release()\n",
    "cv2.destroyAllWindows()"
   ]
  },
  {
   "cell_type": "code",
   "execution_count": null,
   "id": "34309437",
   "metadata": {},
   "outputs": [],
   "source": []
  }
 ],
 "metadata": {
  "kernelspec": {
   "display_name": "Python 3 (ipykernel)",
   "language": "python",
   "name": "python3"
  },
  "language_info": {
   "codemirror_mode": {
    "name": "ipython",
    "version": 3
   },
   "file_extension": ".py",
   "mimetype": "text/x-python",
   "name": "python",
   "nbconvert_exporter": "python",
   "pygments_lexer": "ipython3",
   "version": "3.9.12"
  }
 },
 "nbformat": 4,
 "nbformat_minor": 5
}
